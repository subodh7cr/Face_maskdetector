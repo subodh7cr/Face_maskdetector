{
  "cells": [
    {
      "cell_type": "markdown",
      "metadata": {
        "id": "view-in-github",
        "colab_type": "text"
      },
      "source": [
        "<a href=\"https://colab.research.google.com/github/subodh7cr/Face_maskdetector/blob/main/facemask.ipynb\" target=\"_parent\"><img src=\"https://colab.research.google.com/assets/colab-badge.svg\" alt=\"Open In Colab\"/></a>"
      ]
    },
    {
      "cell_type": "code",
      "execution_count": null,
      "metadata": {
        "id": "pZa17AsOgBO5"
      },
      "outputs": [],
      "source": [
        "from google.colab import drive\n",
        "drive.mount('/content/drive/')"
      ]
    },
    {
      "cell_type": "code",
      "execution_count": null,
      "metadata": {
        "id": "HJlcNp2egMtC"
      },
      "outputs": [],
      "source": [
        "!pip install -q keras"
      ]
    },
    {
      "cell_type": "code",
      "execution_count": null,
      "metadata": {
        "id": "rN8-bxGVgOYT"
      },
      "outputs": [],
      "source": [
        "from keras.preprocessing import image\n"
      ]
    },
    {
      "cell_type": "code",
      "execution_count": null,
      "metadata": {
        "id": "gIfq9H7qgP8k"
      },
      "outputs": [],
      "source": [
        "categories=['with_mask','without_mask']\n"
      ]
    },
    {
      "cell_type": "code",
      "execution_count": null,
      "metadata": {
        "id": "oiC0zhVagSBy"
      },
      "outputs": [],
      "source": [
        "import os"
      ]
    },
    {
      "cell_type": "code",
      "execution_count": null,
      "metadata": {
        "id": "f77l9FtGgTnq"
      },
      "outputs": [],
      "source": [
        "#OpenCV is a Python library that allows you to perform image processing and computer vision tasks\n",
        "import cv2"
      ]
    },
    {
      "cell_type": "code",
      "execution_count": null,
      "metadata": {
        "id": "x_K-On32gWCi"
      },
      "outputs": [],
      "source": [
        "\n",
        "  path='/content/drive/MyDrive/train_mask/train'\n",
        "\n",
        "  "
      ]
    },
    {
      "cell_type": "code",
      "execution_count": null,
      "metadata": {
        "id": "2OHkLilogYPz"
      },
      "outputs": [],
      "source": [
        "\n",
        "\n",
        "\n",
        "\n",
        "#we have formed empty list to have img and label in it\n",
        "data=[]\n",
        "\n",
        "for category in categories:\n",
        "\n",
        "\n",
        "  #joins path +category to create new path \n",
        "  new_path=os.path.join(path,category)\n",
        "\n",
        "#will print the index of the category of img\n",
        "  label=categories.index(category)\n",
        "\n",
        "#os.listdir(path) returns the list of all the files in that path(since we cannot directly add folder to colab)\n",
        "  for file in os.listdir(new_path):\n",
        "    \n",
        "    img_path=os.path.join(new_path,file)\n",
        "    #imread loads img\n",
        "    img=cv2.imread(img_path)\n",
        "    #since vgg16 takes this size\n",
        "    img=cv2.resize(img,(224,224))\n",
        "\n",
        "    data.append([img,label])\n",
        "\n",
        "    \n",
        "    #here every image is rgb image\n",
        "    #we need two columns here one with numpy array of img and other with category of img (0-with mask,1-without mask)\n",
        "\n",
        "    # we need 2-d numpy array for img and 1d array for label\n",
        "  "
      ]
    },
    {
      "cell_type": "code",
      "execution_count": null,
      "metadata": {
        "id": "b2ELKhu0gada"
      },
      "outputs": [],
      "source": [
        "import random"
      ]
    },
    {
      "cell_type": "code",
      "execution_count": null,
      "metadata": {
        "id": "7HEtO4NtgbxD"
      },
      "outputs": [],
      "source": [
        "#to shuffle images\n",
        "random.shuffle(data)"
      ]
    },
    {
      "cell_type": "markdown",
      "metadata": {
        "id": "4ui6np38t45A"
      },
      "source": [
        "The X and y get converted to array hence for next execution the variable has to be modified"
      ]
    },
    {
      "cell_type": "code",
      "execution_count": null,
      "metadata": {
        "id": "4AWXugocgdNU"
      },
      "outputs": [],
      "source": [
        "#now we need to separate x and y and convert them into numpy array\n",
        "\n",
        "X=[]\n",
        "y=[]\n",
        "\n",
        " \n",
        "for features,label in data:\n",
        "  X.append(features)\n",
        "  y.append(label)"
      ]
    },
    {
      "cell_type": "code",
      "execution_count": null,
      "metadata": {
        "id": "htTwK8PtgfB6"
      },
      "outputs": [],
      "source": [
        "import numpy as np"
      ]
    },
    {
      "cell_type": "code",
      "execution_count": null,
      "metadata": {
        "id": "xmPVAQK9ggw7"
      },
      "outputs": [],
      "source": [
        "#Here we have made X and y as array from list\n",
        "\n",
        "X=np.array(X) \n",
        "y=np.array(y)"
      ]
    },
    {
      "cell_type": "code",
      "execution_count": null,
      "metadata": {
        "id": "ZS69KCuago46"
      },
      "outputs": [],
      "source": [
        "X.shape"
      ]
    },
    {
      "cell_type": "code",
      "execution_count": null,
      "metadata": {
        "id": "p-Oa6mG4rZnT"
      },
      "outputs": [],
      "source": [
        "#standardize X\n",
        "\n",
        "X=X/255"
      ]
    },
    {
      "cell_type": "markdown",
      "metadata": {
        "id": "Xcq6PJYkuc3Y"
      },
      "source": [
        "Splitting train test"
      ]
    },
    {
      "cell_type": "code",
      "execution_count": null,
      "metadata": {
        "id": "8w5NwCAztvLp"
      },
      "outputs": [],
      "source": [
        "from sklearn.model_selection import train_test_split\n",
        "X_train,X_test,y_train,y_test=train_test_split(X,y,test_size=0.2)"
      ]
    },
    {
      "cell_type": "code",
      "execution_count": null,
      "metadata": {
        "id": "eCmkHRKltwkI"
      },
      "outputs": [],
      "source": [
        "X_train.shape"
      ]
    },
    {
      "cell_type": "code",
      "execution_count": null,
      "metadata": {
        "id": "C8Nzg3HLuXMi"
      },
      "outputs": [],
      "source": [
        "X_test.shape"
      ]
    },
    {
      "cell_type": "markdown",
      "metadata": {
        "id": "2TcbEHZuuoAV"
      },
      "source": [
        "We will perform transfer learing of vgg16"
      ]
    },
    {
      "cell_type": "code",
      "execution_count": null,
      "metadata": {
        "id": "3HNlK_KHuY5k"
      },
      "outputs": [],
      "source": [
        "from keras.applications.vgg16 import VGG16"
      ]
    },
    {
      "cell_type": "code",
      "execution_count": null,
      "metadata": {
        "id": "OWiqp-Sgu4sE"
      },
      "outputs": [],
      "source": [
        "vgg=VGG16()"
      ]
    },
    {
      "cell_type": "code",
      "execution_count": null,
      "metadata": {
        "id": "4tppioF3vAmy"
      },
      "outputs": [],
      "source": [
        "vgg.summary()"
      ]
    },
    {
      "cell_type": "markdown",
      "metadata": {
        "id": "zFUJJLa8vG1I"
      },
      "source": [
        "We will replace the last dense block and use the model again"
      ]
    },
    {
      "cell_type": "markdown",
      "metadata": {
        "id": "ZzRRf4mixFk3"
      },
      "source": [
        "VGG16 is an functional model(any layer can be connected to any other layer) hence we used this sequential method to have sequential (one layer to next layer only)"
      ]
    },
    {
      "cell_type": "code",
      "execution_count": null,
      "metadata": {
        "id": "gNiaG-PTu8Qk"
      },
      "outputs": [],
      "source": [
        "from keras import Sequential"
      ]
    },
    {
      "cell_type": "markdown",
      "metadata": {
        "id": "QzQkQTbrxwMa"
      },
      "source": []
    },
    {
      "cell_type": "code",
      "execution_count": null,
      "metadata": {
        "id": "ZUtZahUOv07B"
      },
      "outputs": [],
      "source": [
        "#using simple sequential keras\n",
        "model=Sequential()"
      ]
    },
    {
      "cell_type": "code",
      "execution_count": null,
      "metadata": {
        "id": "Jxn7Uda3v3I9"
      },
      "outputs": [],
      "source": [
        "#for adding layers other than the last dense layer\n",
        "\n",
        "for layer in vgg.layers[:-1]:\n",
        "  model.add(layer)"
      ]
    },
    {
      "cell_type": "markdown",
      "metadata": {
        "id": "rs3-EgVZwrdY"
      },
      "source": [
        "last layer removed from model"
      ]
    },
    {
      "cell_type": "code",
      "execution_count": null,
      "metadata": {
        "id": "e-Bny3nQwd_Q"
      },
      "outputs": [],
      "source": [
        "model.summary()"
      ]
    },
    {
      "cell_type": "markdown",
      "metadata": {
        "id": "Y1yGZqWsx0Hv"
      },
      "source": [
        "Now we will freeze the weights of the layers so that they don't get updated during training"
      ]
    },
    {
      "cell_type": "code",
      "execution_count": null,
      "metadata": {
        "id": "QdtDM0eux_Hv"
      },
      "outputs": [],
      "source": [
        "for layer in model.layers:\n",
        "  layer.trainable=False"
      ]
    },
    {
      "cell_type": "markdown",
      "metadata": {
        "id": "ONKNDSGFyPKP"
      },
      "source": [
        "trainable parameters =0 now"
      ]
    },
    {
      "cell_type": "code",
      "execution_count": null,
      "metadata": {
        "id": "-tVYZmKdyLKv"
      },
      "outputs": [],
      "source": [
        "model.summary()"
      ]
    },
    {
      "cell_type": "markdown",
      "metadata": {
        "id": "vePOmy3Tycdg"
      },
      "source": [
        "Add dense layer now"
      ]
    },
    {
      "cell_type": "code",
      "execution_count": null,
      "metadata": {
        "id": "lpiomHvcyl5f"
      },
      "outputs": [],
      "source": [
        "from keras.layers import Dense\n",
        "#1 is no of output node\n",
        "model.add(Dense(1,activation='sigmoid'))"
      ]
    },
    {
      "cell_type": "markdown",
      "metadata": {
        "id": "Uo72jLA6y9AP"
      },
      "source": [
        "trainable parameters and last layer updated"
      ]
    },
    {
      "cell_type": "code",
      "execution_count": null,
      "metadata": {
        "id": "BQI-bHIjy0DA"
      },
      "outputs": [],
      "source": [
        "model.summary()"
      ]
    },
    {
      "cell_type": "code",
      "execution_count": null,
      "metadata": {
        "id": "BeJXBfe0zDYe"
      },
      "outputs": [],
      "source": [
        "model.compile(optimizer='Adam',loss='binary_crossentropy',metrics=['accuracy'])"
      ]
    },
    {
      "cell_type": "code",
      "execution_count": null,
      "metadata": {
        "id": "r4GNCHOWCSgj"
      },
      "outputs": [],
      "source": [
        "X_test.shape"
      ]
    },
    {
      "cell_type": "markdown",
      "metadata": {
        "id": "dGfCa_534r1P"
      },
      "source": [
        "38 ? 1205"
      ]
    },
    {
      "cell_type": "code",
      "execution_count": null,
      "metadata": {
        "colab": {
          "background_save": true,
          "base_uri": "https://localhost:8080/"
        },
        "id": "oQE8rgPuz2vf",
        "outputId": "b1763b1f-dd43-459f-b6e2-49fa5148a056"
      },
      "outputs": [
        {
          "name": "stdout",
          "output_type": "stream",
          "text": [
            "Epoch 1/5\n",
            "38/38 [==============================] - 1007s 27s/step - loss: 0.6292 - accuracy: 0.6667 - val_loss: 0.4493 - val_accuracy: 0.8675\n",
            "Epoch 2/5\n",
            "38/38 [==============================] - 967s 26s/step - loss: 0.3574 - accuracy: 0.9138 - val_loss: 0.3328 - val_accuracy: 0.8940\n",
            "Epoch 3/5\n",
            "38/38 [==============================] - 979s 26s/step - loss: 0.2691 - accuracy: 0.9254 - val_loss: 0.2764 - val_accuracy: 0.9139\n",
            "Epoch 4/5\n",
            "38/38 [==============================] - 970s 26s/step - loss: 0.2218 - accuracy: 0.9395 - val_loss: 0.2386 - val_accuracy: 0.9238\n",
            "Epoch 5/5\n",
            "38/38 [==============================] - 972s 26s/step - loss: 0.1932 - accuracy: 0.9461 - val_loss: 0.2224 - val_accuracy: 0.9238\n"
          ]
        },
        {
          "data": {
            "text/plain": [
              "<keras.callbacks.History at 0x7f7fda739280>"
            ]
          },
          "execution_count": 32,
          "metadata": {},
          "output_type": "execute_result"
        }
      ],
      "source": [
        "model.fit(X_train,y_train,epochs=5,validation_data=(X_test,y_test))"
      ]
    },
    {
      "cell_type": "markdown",
      "metadata": {
        "id": "of86xoVc6Q0H"
      },
      "source": [
        "now we will use this model for face capture"
      ]
    },
    {
      "cell_type": "code",
      "execution_count": null,
      "metadata": {
        "colab": {
          "background_save": true
        },
        "id": "XOLyCQS1VsJL"
      },
      "outputs": [],
      "source": [
        "import pickle"
      ]
    },
    {
      "cell_type": "code",
      "execution_count": null,
      "metadata": {
        "id": "z4lGkUAM5Aiq"
      },
      "outputs": [],
      "source": [
        "#for webcam face capture\n",
        "pickle.dump(model,open('model.pkl','wb'))\n",
        "\n",
        "\n",
        "\n"
      ]
    },
    {
      "cell_type": "code",
      "execution_count": null,
      "metadata": {
        "id": "DYIjgVQoKaJK"
      },
      "outputs": [],
      "source": []
    },
    {
      "cell_type": "code",
      "execution_count": null,
      "metadata": {
        "id": "Se5bfXD6LPOc"
      },
      "outputs": [],
      "source": []
    },
    {
      "cell_type": "code",
      "execution_count": null,
      "metadata": {
        "id": "MR82G7pCLU0y"
      },
      "outputs": [],
      "source": []
    },
    {
      "cell_type": "code",
      "execution_count": null,
      "metadata": {
        "id": "0SnEK1ZqUazo"
      },
      "outputs": [],
      "source": []
    },
    {
      "cell_type": "code",
      "source": [],
      "metadata": {
        "id": "jOIDZIU2hsQ-"
      },
      "execution_count": null,
      "outputs": []
    }
  ],
  "metadata": {
    "accelerator": "GPU",
    "colab": {
      "provenance": [],
      "authorship_tag": "ABX9TyPoioqxUUjEvEjTK11ye7ZP",
      "include_colab_link": true
    },
    "gpuClass": "standard",
    "kernelspec": {
      "display_name": "Python 3",
      "name": "python3"
    },
    "language_info": {
      "name": "python"
    }
  },
  "nbformat": 4,
  "nbformat_minor": 0
}